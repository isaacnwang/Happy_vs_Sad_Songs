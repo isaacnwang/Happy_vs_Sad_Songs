{
 "cells": [
  {
   "cell_type": "code",
   "execution_count": 19,
   "metadata": {},
   "outputs": [],
   "source": [
    "import pickle as pkl\n",
    "import numpy as np\n",
    "\n",
    "\n",
    "with open(\"./models/final_model.pkl\", \"rb\") as f:\n",
    "    final_model = pkl.load(f)\n",
    "\n",
    "\n",
    "target_names=['happy','sad']\n",
    "feature_names= ['danceability', 'energy', 'key', \n",
    "                      'loudness', 'mode', 'speechiness', \n",
    "                      'acousticness', 'instrumentalness', 'liveness', \n",
    "                      'valence','tempo']\n",
    "\n"
   ]
  },
  {
   "cell_type": "code",
   "execution_count": 20,
   "metadata": {},
   "outputs": [],
   "source": [
    "def make_prediction(feature_dict):\n",
    "    \n",
    "    x_input = []\n",
    "    for name in feature_names:\n",
    "        x_input_ = float(feature_dict.get(name, 0))\n",
    "        x_input.append(x_input_)\n",
    "    \n",
    "    pred_probs = final_model.predict_proba([x_input]).flat\n",
    "    probs = []\n",
    "    for index in np.argsort(pred_probs)[::-1]:\n",
    "        prob = {\n",
    "            'name': target_names[index],\n",
    "            'prob': round(pred_probs[index], 5)\n",
    "        }\n",
    "        probs.append(prob)\n",
    "    return(x_input,probs)"
   ]
  },
  {
   "cell_type": "code",
   "execution_count": 21,
   "metadata": {},
   "outputs": [
    {
     "data": {
      "text/plain": [
       "([0.0, 0.0, 0.0, 0.0, 0.0, 0.0, 0.0, 0.0, 0.0, 0.0, 0.0],\n",
       " [{'name': 'sad', 'prob': 0.81398}, {'name': 'happy', 'prob': 0.18602}])"
      ]
     },
     "execution_count": 21,
     "metadata": {},
     "output_type": "execute_result"
    }
   ],
   "source": [
    "feature_dict={\n",
    "      'Danceability': 0.76,\n",
    "      'Energy': .73,\n",
    "      'Key': 1,\n",
    "      'Loudness': 0.65,\n",
    "      'Mode': 1,\n",
    "      'Speechiness': 0.45,\n",
    "      'Acousticness': 0.15,\n",
    "      'Instrumentalness': 0.35,\n",
    "      'Liveness': 0.20,\n",
    "      'Valence': 0.65,\n",
    "      'Tempo': 0.73\n",
    "    }\n",
    "\n",
    "make_prediction(feature_dict)"
   ]
  },
  {
   "cell_type": "code",
   "execution_count": null,
   "metadata": {},
   "outputs": [],
   "source": []
  },
  {
   "cell_type": "code",
   "execution_count": null,
   "metadata": {},
   "outputs": [],
   "source": []
  }
 ],
 "metadata": {
  "kernelspec": {
   "display_name": "Python 3",
   "language": "python",
   "name": "python3"
  },
  "language_info": {
   "codemirror_mode": {
    "name": "ipython",
    "version": 3
   },
   "file_extension": ".py",
   "mimetype": "text/x-python",
   "name": "python",
   "nbconvert_exporter": "python",
   "pygments_lexer": "ipython3",
   "version": "3.7.6"
  }
 },
 "nbformat": 4,
 "nbformat_minor": 4
}
