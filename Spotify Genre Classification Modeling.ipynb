{
 "cells": [
  {
   "cell_type": "code",
   "execution_count": 71,
   "metadata": {},
   "outputs": [],
   "source": [
    "import pandas as pd\n",
    "import numpy as np\n",
    "\n",
    "import matplotlib.pyplot as plt\n",
    "import seaborn as sns\n",
    "import statsmodels.api as sm\n",
    "import statsmodels.formula.api as smf\n",
    "plt.style.use('ggplot')\n",
    "\n",
    "%matplotlib inline\n",
    "\n",
    "from sklearn.linear_model import LogisticRegression\n",
    "from sklearn.model_selection import train_test_split\n",
    "from sklearn.metrics import precision_score, recall_score, accuracy_score, roc_auc_score\n",
    "from sklearn.metrics import confusion_matrix\n",
    "from sklearn.preprocessing import StandardScaler\n",
    "from sklearn.neighbors import KNeighborsClassifier\n",
    "from sklearn.model_selection import cross_val_score\n",
    "from sklearn.model_selection import StratifiedKFold\n",
    "from sklearn.multiclass import OneVsRestClassifier\n",
    "from sklearn.ensemble import AdaBoostClassifier\n",
    "from xgboost import XGBClassifier\n",
    "from sklearn.preprocessing import MultiLabelBinarizer\n",
    "import warnings\n",
    "warnings.filterwarnings('ignore')\n",
    "\n",
    "from sklearn.tree import DecisionTreeClassifier\n",
    "from sklearn.svm import LinearSVC\n",
    "from sklearn.svm import SVC\n",
    "from sklearn.ensemble import RandomForestClassifier\n",
    "from sklearn.linear_model import LogisticRegression"
   ]
  },
  {
   "cell_type": "code",
   "execution_count": 64,
   "metadata": {},
   "outputs": [
    {
     "data": {
      "text/html": [
       "<div>\n",
       "<style scoped>\n",
       "    .dataframe tbody tr th:only-of-type {\n",
       "        vertical-align: middle;\n",
       "    }\n",
       "\n",
       "    .dataframe tbody tr th {\n",
       "        vertical-align: top;\n",
       "    }\n",
       "\n",
       "    .dataframe thead th {\n",
       "        text-align: right;\n",
       "    }\n",
       "</style>\n",
       "<table border=\"1\" class=\"dataframe\">\n",
       "  <thead>\n",
       "    <tr style=\"text-align: right;\">\n",
       "      <th></th>\n",
       "      <th>danceability</th>\n",
       "      <th>energy</th>\n",
       "      <th>key</th>\n",
       "      <th>loudness</th>\n",
       "      <th>mode</th>\n",
       "      <th>speechiness</th>\n",
       "      <th>acousticness</th>\n",
       "      <th>instrumentalness</th>\n",
       "      <th>liveness</th>\n",
       "      <th>valence</th>\n",
       "      <th>tempo</th>\n",
       "      <th>duration_ms</th>\n",
       "      <th>time_signature</th>\n",
       "      <th>track_names</th>\n",
       "      <th>artist_names</th>\n",
       "      <th>happy</th>\n",
       "      <th>genre</th>\n",
       "      <th>mood</th>\n",
       "    </tr>\n",
       "  </thead>\n",
       "  <tbody>\n",
       "    <tr>\n",
       "      <th>0</th>\n",
       "      <td>0.813</td>\n",
       "      <td>0.640</td>\n",
       "      <td>2</td>\n",
       "      <td>-5.908</td>\n",
       "      <td>1</td>\n",
       "      <td>0.2720</td>\n",
       "      <td>0.2690</td>\n",
       "      <td>0.0000</td>\n",
       "      <td>0.1310</td>\n",
       "      <td>0.488</td>\n",
       "      <td>92.989</td>\n",
       "      <td>147076</td>\n",
       "      <td>4</td>\n",
       "      <td>Jolie nana</td>\n",
       "      <td>['Aya Nakamura']</td>\n",
       "      <td>1</td>\n",
       "      <td>Alternative</td>\n",
       "      <td>happy</td>\n",
       "    </tr>\n",
       "    <tr>\n",
       "      <th>1</th>\n",
       "      <td>0.729</td>\n",
       "      <td>0.788</td>\n",
       "      <td>10</td>\n",
       "      <td>-4.832</td>\n",
       "      <td>0</td>\n",
       "      <td>0.0908</td>\n",
       "      <td>0.0703</td>\n",
       "      <td>0.0000</td>\n",
       "      <td>0.1150</td>\n",
       "      <td>0.857</td>\n",
       "      <td>118.039</td>\n",
       "      <td>159536</td>\n",
       "      <td>4</td>\n",
       "      <td>Say My Name</td>\n",
       "      <td>['Dimitri Vegas &amp; Like Mike', 'Regard', 'Dimit...</td>\n",
       "      <td>1</td>\n",
       "      <td>house</td>\n",
       "      <td>happy</td>\n",
       "    </tr>\n",
       "    <tr>\n",
       "      <th>2</th>\n",
       "      <td>0.624</td>\n",
       "      <td>0.628</td>\n",
       "      <td>4</td>\n",
       "      <td>-6.582</td>\n",
       "      <td>0</td>\n",
       "      <td>0.0408</td>\n",
       "      <td>0.0112</td>\n",
       "      <td>0.0191</td>\n",
       "      <td>0.0814</td>\n",
       "      <td>0.772</td>\n",
       "      <td>114.556</td>\n",
       "      <td>147071</td>\n",
       "      <td>4</td>\n",
       "      <td>Let Me Move You - From the Netflix film Work It</td>\n",
       "      <td>['Sabrina Carpenter']</td>\n",
       "      <td>1</td>\n",
       "      <td>pop</td>\n",
       "      <td>happy</td>\n",
       "    </tr>\n",
       "    <tr>\n",
       "      <th>3</th>\n",
       "      <td>0.660</td>\n",
       "      <td>0.755</td>\n",
       "      <td>0</td>\n",
       "      <td>-4.501</td>\n",
       "      <td>0</td>\n",
       "      <td>0.0469</td>\n",
       "      <td>0.0876</td>\n",
       "      <td>0.0000</td>\n",
       "      <td>0.1020</td>\n",
       "      <td>0.862</td>\n",
       "      <td>145.948</td>\n",
       "      <td>156368</td>\n",
       "      <td>4</td>\n",
       "      <td>NIGHTRIDER</td>\n",
       "      <td>['Arizona Zervas']</td>\n",
       "      <td>1</td>\n",
       "      <td>pop</td>\n",
       "      <td>happy</td>\n",
       "    </tr>\n",
       "    <tr>\n",
       "      <th>4</th>\n",
       "      <td>0.789</td>\n",
       "      <td>0.711</td>\n",
       "      <td>2</td>\n",
       "      <td>-4.248</td>\n",
       "      <td>1</td>\n",
       "      <td>0.0410</td>\n",
       "      <td>0.0332</td>\n",
       "      <td>0.0000</td>\n",
       "      <td>0.0876</td>\n",
       "      <td>0.753</td>\n",
       "      <td>112.985</td>\n",
       "      <td>190306</td>\n",
       "      <td>4</td>\n",
       "      <td>Take You Dancing</td>\n",
       "      <td>['Jason Derulo']</td>\n",
       "      <td>1</td>\n",
       "      <td>pop</td>\n",
       "      <td>happy</td>\n",
       "    </tr>\n",
       "  </tbody>\n",
       "</table>\n",
       "</div>"
      ],
      "text/plain": [
       "   danceability  energy  key  loudness  mode  speechiness  acousticness  \\\n",
       "0         0.813   0.640    2    -5.908     1       0.2720        0.2690   \n",
       "1         0.729   0.788   10    -4.832     0       0.0908        0.0703   \n",
       "2         0.624   0.628    4    -6.582     0       0.0408        0.0112   \n",
       "3         0.660   0.755    0    -4.501     0       0.0469        0.0876   \n",
       "4         0.789   0.711    2    -4.248     1       0.0410        0.0332   \n",
       "\n",
       "   instrumentalness  liveness  valence    tempo  duration_ms  time_signature  \\\n",
       "0            0.0000    0.1310    0.488   92.989       147076               4   \n",
       "1            0.0000    0.1150    0.857  118.039       159536               4   \n",
       "2            0.0191    0.0814    0.772  114.556       147071               4   \n",
       "3            0.0000    0.1020    0.862  145.948       156368               4   \n",
       "4            0.0000    0.0876    0.753  112.985       190306               4   \n",
       "\n",
       "                                       track_names  \\\n",
       "0                                       Jolie nana   \n",
       "1                                      Say My Name   \n",
       "2  Let Me Move You - From the Netflix film Work It   \n",
       "3                                       NIGHTRIDER   \n",
       "4                                 Take You Dancing   \n",
       "\n",
       "                                        artist_names  happy        genre  \\\n",
       "0                                   ['Aya Nakamura']      1  Alternative   \n",
       "1  ['Dimitri Vegas & Like Mike', 'Regard', 'Dimit...      1        house   \n",
       "2                              ['Sabrina Carpenter']      1          pop   \n",
       "3                                 ['Arizona Zervas']      1          pop   \n",
       "4                                   ['Jason Derulo']      1          pop   \n",
       "\n",
       "    mood  \n",
       "0  happy  \n",
       "1  happy  \n",
       "2  happy  \n",
       "3  happy  \n",
       "4  happy  "
      ]
     },
     "execution_count": 64,
     "metadata": {},
     "output_type": "execute_result"
    }
   ],
   "source": [
    "df = pd.read_csv('Spotify.csv')\n",
    "df['mood'] = df['happy'].apply(lambda x: (x and 'happy') or 'sad')\n",
    "df = df.dropna()\n",
    "df.head()"
   ]
  },
  {
   "cell_type": "code",
   "execution_count": 65,
   "metadata": {},
   "outputs": [],
   "source": [
    "X = df.loc[:,['danceability', 'energy', 'key', \n",
    "                      'loudness', 'mode', 'speechiness', \n",
    "                      'acousticness', 'instrumentalness', 'liveness', \n",
    "                      'valence','duration_ms','tempo']]\n",
    "\n",
    "y = df['genre']"
   ]
  },
  {
   "cell_type": "code",
   "execution_count": 66,
   "metadata": {},
   "outputs": [
    {
     "data": {
      "text/plain": [
       "array(['Alternative', 'house', 'pop', 'r&b', 'rock', 'country', 'hip hop',\n",
       "       'jazz', 'latin', 'classical'], dtype=object)"
      ]
     },
     "execution_count": 66,
     "metadata": {},
     "output_type": "execute_result"
    }
   ],
   "source": [
    "df.genre.unique()"
   ]
  },
  {
   "cell_type": "code",
   "execution_count": 76,
   "metadata": {},
   "outputs": [
    {
     "data": {
      "text/plain": [
       "<matplotlib.axes._subplots.AxesSubplot at 0x7fd3ad4b2c50>"
      ]
     },
     "execution_count": 76,
     "metadata": {},
     "output_type": "execute_result"
    },
    {
     "data": {
      "image/png": "[encoded data removed]",
      "text/plain": [
       "<Figure size 432x288 with 1 Axes>"
      ]
     },
     "metadata": {
      "needs_background": "light"
     },
     "output_type": "display_data"
    }
   ],
   "source": [
    "sns.countplot(x=df['genre'])"
   ]
  },
  {
   "cell_type": "markdown",
   "metadata": {},
   "source": [
    "Working with an imbalanced dataset"
   ]
  },
  {
   "cell_type": "code",
   "execution_count": 77,
   "metadata": {},
   "outputs": [],
   "source": [
    "def model_pipeline(X,y):\n",
    "    '''\n",
    "   Function to streamline model selection\n",
    "    \n",
    "    '''\n",
    "    # 80:20 split holding out test set. Calling kfold because i have a small sample size\n",
    "    X, X_test, y, y_test = train_test_split(X, y, test_size=0.2,random_state=42, stratify = y)\n",
    "    X_train, X_val, y_train, y_val = train_test_split(X, y, test_size=.25, random_state=43, stratify = y)\n",
    "    kf = StratifiedKFold(n_splits=5, shuffle = True, random_state=42)\n",
    "\n",
    "    classifiers = [OneVsRestClassifier(LogisticRegression()),OneVsRestClassifier(RandomForestClassifier()), OneVsRestClassifier(XGBClassifier(n_jobs=-1,max_depth=4)), OneVsRestClassifier(AdaBoostClassifier(n_estimators = 100, random_state=0))]\n",
    "    class_label = ['Logistic Regression','Random Forest','XGBoost','Adaboost']\n",
    "    columns = ['Classifier','Accuracy','F1-Score']\n",
    "\n",
    "    clf_df = pd.DataFrame(index=[0],columns=columns)\n",
    "    fig = plt.figure(figsize=(12,4))\n",
    "\n",
    "    for clf in classifiers:\n",
    "    \n",
    "        # FIT CLASSIFIER\n",
    "        clf.fit(X_train,y_train)\n",
    "\n",
    "        # PREDICT ON TEST SET\n",
    "        y_pred = clf.predict(X_test)\n",
    "\n",
    "        # ACCURACY SCORE\n",
    "        acc = accuracy_score(y_test, y_pred)\n",
    "        \n",
    "        # F1 SCORE\n",
    "        f1 = f1_score(y_test, y_pred, average = 'micro')\n",
    "\n",
    "        # PROBABILITIES\n",
    "        y_pred_prob = clf.predict_proba(X_test)[:,1]\n",
    "\n",
    "        # ADD SCORES TO DF\n",
    "        clf_df.loc[classifiers.index(clf)] = [class_label[classifiers.index(clf)],\n",
    "                                              '{:.2%}'.format(acc),'{:.2%}'.format(f1)]\n",
    "\n",
    "    plt.tight_layout()\n",
    "    clf_df = clf_df.set_index('Classifier')\n",
    "    print(clf_df)\n",
    "    plt.show()\n"
   ]
  },
  {
   "cell_type": "code",
   "execution_count": 78,
   "metadata": {},
   "outputs": [
    {
     "name": "stdout",
     "output_type": "stream",
     "text": [
      "                    Accuracy F1-Score\n",
      "Classifier                           \n",
      "Logistic Regression   56.97%   56.97%\n",
      "Random Forest         66.77%   66.77%\n",
      "XGBoost               64.60%   64.60%\n",
      "Adaboost              63.86%   63.86%\n"
     ]
    },
    {
     "data": {
      "text/plain": [
       "<Figure size 864x288 with 0 Axes>"
      ]
     },
     "metadata": {},
     "output_type": "display_data"
    }
   ],
   "source": [
    "model_pipeline(X,y)"
   ]
  },
  {
   "cell_type": "markdown",
   "metadata": {},
   "source": [
    "Looks like I'll go with another random forest again for my final model"
   ]
  },
  {
   "cell_type": "markdown",
   "metadata": {},
   "source": [
    "# Hypertuning Final Model Parameters (Random Forest)"
   ]
  },
  {
   "cell_type": "code",
   "execution_count": 79,
   "metadata": {},
   "outputs": [
    {
     "name": "stdout",
     "output_type": "stream",
     "text": [
      "{'max_features': 'sqrt', 'min_samples_leaf': 1, 'n_estimators': 150}\n",
      "0.6477371357718537\n"
     ]
    }
   ],
   "source": [
    "from sklearn.model_selection import GridSearchCV\n",
    "from sklearn.ensemble import RandomForestClassifier\n",
    "\n",
    "param_grid = {'n_estimators': np.arange(10,200,10),\n",
    "              'min_samples_leaf': np.arange(1,100,10),\n",
    "              'max_features': ['auto', 'sqrt', 'log2']}\n",
    "\n",
    "rf = RandomForestClassifier()\n",
    "rf_cv = GridSearchCV(rf, param_grid, cv=5)\n",
    "rf_cv.fit(X, y)\n",
    "\n",
    "print(rf_cv.best_params_)\n",
    "print(rf_cv.best_score_)\n",
    "\n",
    "ne=rf_cv.best_params_['n_estimators']\n",
    "msl=rf_cv.best_params_['min_samples_leaf']\n",
    "mf=rf_cv.best_params_['max_features']"
   ]
  },
  {
   "cell_type": "code",
   "execution_count": 96,
   "metadata": {},
   "outputs": [],
   "source": [
    "# Create the classifier\n",
    "final_model = RandomForestClassifier(n_estimators=ne,\n",
    "                            min_samples_leaf=msl,\n",
    "                            max_features=mf)\n",
    "\n",
    "# Fit the classifier to the training data\n",
    "final_model.fit(X, y)\n",
    "\n",
    "# Predict on the test set\n",
    "y_pred_final_model = final_model.predict(X)\n",
    "\n",
    "# PREDICTION PROBABILITIES\n",
    "y_pred_prob_final_model = final_model.predict_proba(X)[:,1]"
   ]
  },
  {
   "cell_type": "code",
   "execution_count": 97,
   "metadata": {},
   "outputs": [
    {
     "name": "stdout",
     "output_type": "stream",
     "text": [
      "Test Accuracy: 100.00%\n",
      "Precision: 100.00%\n",
      "Recall: 100.00%\n"
     ]
    }
   ],
   "source": [
    "#print('ROC AUC Score:','{:.2%}'.format(roc_auc_score(y, y_pred_prob_final_model, average = 'micro')))\n",
    "print('Test Accuracy:', '{:.2%}'.format(accuracy_score(y, y_pred_final_model)))\n",
    "print('Precision:','{:.2%}'.format(precision_score(y, y_pred_final_model, average = 'micro')))\n",
    "print('Recall:', '{:.2%}'.format(recall_score(y, y_pred_final_model, average = 'micro')))\n",
    "\n",
    "#print('Recall:', recall_score(y_test,rf.predict(X_test))\n",
    "\n",
    "#print('\\n Clasification Report:\\n', classification_report(y, y_pred_final_model))"
   ]
  },
  {
   "cell_type": "code",
   "execution_count": 98,
   "metadata": {},
   "outputs": [
    {
     "name": "stdout",
     "output_type": "stream",
     "text": [
      "[(0.1154, 'tempo'), (0.1097, 'loudness'), (0.1081, 'instrumentalness'), (0.0908, 'energy'), (0.09, 'speechiness'), (0.0894, 'valence'), (0.0886, 'danceability'), (0.0869, 'acousticness'), (0.0853, 'duration_ms'), (0.0751, 'liveness'), (0.0476, 'key'), (0.0132, 'mode')]\n"
     ]
    }
   ],
   "source": [
    "names = df.columns\n",
    "print(sorted(zip(map(lambda x: round(x, 4), final_model.feature_importances_), names), \n",
    "             reverse=True))"
   ]
  },
  {
   "cell_type": "code",
   "execution_count": null,
   "metadata": {},
   "outputs": [],
   "source": []
  }
 ],
 "metadata": {
  "kernelspec": {
   "display_name": "Python 3",
   "language": "python",
   "name": "python3"
  },
  "language_info": {
   "codemirror_mode": {
    "name": "ipython",
    "version": 3
   },
   "file_extension": ".py",
   "mimetype": "text/x-python",
   "name": "python",
   "nbconvert_exporter": "python",
   "pygments_lexer": "ipython3",
   "version": "3.7.6"
  }
 },
 "nbformat": 4,
 "nbformat_minor": 4
}
