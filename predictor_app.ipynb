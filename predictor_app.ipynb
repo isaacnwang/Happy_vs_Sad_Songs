{
 "cells": [
  {
   "cell_type": "code",
   "execution_count": null,
   "metadata": {},
   "outputs": [],
   "source": [
    "from flask import request\n",
    "from predictor_api import make_prediction, feature_names\n",
    "\n",
    "@app.route('/', methods=['GET'])\n",
    "def hello():\n",
    "    return \"Hellow\"\n",
    "\n",
    "@app.route(\"/predict\", methods=[\"GET\", \"POST\"])\n",
    "def predict():\n",
    "    x_input, predictions = make_prediction(request.args)\n",
    "    return flask.render_template('predictor.html',\n",
    "                             x_input=x_input,\n",
    "                             feature_names=feature_names,\n",
    "                             prediction=predictions)\n",
    "\n",
    "if __name__ == '__main__':\n",
    "    app.run(debug=True)"
   ]
  },
  {
   "cell_type": "code",
   "execution_count": null,
   "metadata": {},
   "outputs": [],
   "source": []
  }
 ],
 "metadata": {
  "kernelspec": {
   "display_name": "Python 3",
   "language": "python",
   "name": "python3"
  },
  "language_info": {
   "codemirror_mode": {
    "name": "ipython",
    "version": 3
   },
   "file_extension": ".py",
   "mimetype": "text/x-python",
   "name": "python",
   "nbconvert_exporter": "python",
   "pygments_lexer": "ipython3",
   "version": "3.7.6"
  }
 },
 "nbformat": 4,
 "nbformat_minor": 4
}
